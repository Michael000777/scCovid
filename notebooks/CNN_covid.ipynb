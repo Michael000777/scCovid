{
 "cells": [
  {
   "cell_type": "code",
   "execution_count": 1,
   "id": "8250fdb3-2a90-42e5-a0c8-311567fe54bf",
   "metadata": {
    "tags": []
   },
   "outputs": [
    {
     "name": "stdout",
     "output_type": "stream",
     "text": [
      "PyTorch version: 2.0.1  Device: cpu\n"
     ]
    }
   ],
   "source": [
    "import scanpy as sc\n",
    "import seaborn as sns\n",
    "import pandas as pd\n",
    "import numpy as np\n",
    "import torch\n",
    "import torch.nn as nn\n",
    "import torch.nn.functional as F\n",
    "from torchvision import datasets, transforms\n",
    "from sklearn.decomposition import PCA\n",
    "from sklearn.decomposition import TruncatedSVD\n",
    "\n",
    "import matplotlib.pyplot as plt\n",
    "\n",
    "device = torch.device('cuda' if torch.cuda.is_available() else 'cpu')\n",
    "    \n",
    "print('PyTorch version:', torch.__version__, ' Device:', device)"
   ]
  },
  {
   "cell_type": "code",
   "execution_count": 2,
   "id": "1294f8cd-89b6-4199-b75d-c5189fa6366e",
   "metadata": {
    "tags": []
   },
   "outputs": [],
   "source": [
    "adata = sc.read_h5ad(\"integrated.h5ad\")"
   ]
  },
  {
   "cell_type": "code",
   "execution_count": 3,
   "id": "f6e42cc1-6d62-4cf4-a723-a942513568d0",
   "metadata": {
    "tags": []
   },
   "outputs": [
    {
     "data": {
      "text/plain": [
       "(108822, 21306)"
      ]
     },
     "execution_count": 3,
     "metadata": {},
     "output_type": "execute_result"
    }
   ],
   "source": [
    "adata.X.shape"
   ]
  },
  {
   "cell_type": "code",
   "execution_count": 5,
   "id": "ac8bd32f-3d8f-4f69-8055-01aea66342b2",
   "metadata": {
    "tags": []
   },
   "outputs": [
    {
     "data": {
      "text/plain": [
       "<108822x21306 sparse matrix of type '<class 'numpy.float32'>'\n",
       "\twith 95423072 stored elements in Compressed Sparse Row format>"
      ]
     },
     "execution_count": 5,
     "metadata": {},
     "output_type": "execute_result"
    }
   ],
   "source": [
    "expression_matrix = adata.X\n",
    "expression_matrix"
   ]
  },
  {
   "cell_type": "code",
   "execution_count": 6,
   "id": "4790651f-1d5c-4ebf-9689-18ed3fbcf9ab",
   "metadata": {
    "tags": []
   },
   "outputs": [
    {
     "data": {
      "text/plain": [
       "(21306,)"
      ]
     },
     "execution_count": 6,
     "metadata": {},
     "output_type": "execute_result"
    }
   ],
   "source": [
    "#gene names \n",
    "adata.var_names.shape"
   ]
  },
  {
   "cell_type": "code",
   "execution_count": 7,
   "id": "0ec58590-4e78-48ec-a9f7-d283fbde7373",
   "metadata": {
    "tags": []
   },
   "outputs": [],
   "source": [
    "#Since we are working with a sparse matrix and regular PCA might not work\n",
    "\n",
    "n_components = 100  \n",
    "svd = TruncatedSVD(n_components=n_components)\n",
    "svd_matrix = svd.fit_transform(expression_matrix)"
   ]
  },
  {
   "cell_type": "code",
   "execution_count": 9,
   "id": "d951ab51-c3f8-4689-a8c4-3af84ca794e4",
   "metadata": {
    "tags": []
   },
   "outputs": [
    {
     "data": {
      "text/plain": [
       "(108822, 100)"
      ]
     },
     "execution_count": 9,
     "metadata": {},
     "output_type": "execute_result"
    }
   ],
   "source": [
    "svd_matrix.shape"
   ]
  },
  {
   "cell_type": "code",
   "execution_count": 11,
   "id": "0a3f3e44-60cb-4b96-a3a4-ec765477d6b1",
   "metadata": {
    "tags": []
   },
   "outputs": [],
   "source": [
    "def map_cond(x):\n",
    "    if 'cov' in x:\n",
    "        return 'COVID19'\n",
    "    else:\n",
    "        return 'control'"
   ]
  },
  {
   "cell_type": "code",
   "execution_count": 12,
   "id": "d59b357a-6d72-4619-aa25-f1b2ab56269d",
   "metadata": {
    "tags": []
   },
   "outputs": [
    {
     "data": {
      "text/plain": [
       "TCCACCAAGAACCCGA-1_15    COVID19\n",
       "GTGCTGGTCAGACCGC-1_15    COVID19\n",
       "GTTTACTCATATCGGT-1_15    COVID19\n",
       "TTGACCCTCTACTTCA-1_15    COVID19\n",
       "GCACTAAGTTAGGCTT-1_15    COVID19\n",
       "                          ...   \n",
       "GTTGCTCGTGACACAG-1_19    COVID19\n",
       "AGTCATGAGTGGTTCT-1_19    COVID19\n",
       "AGCGTATCAGTTTGGT-1_19    COVID19\n",
       "GTTCTATAGTCATACC-1_19    COVID19\n",
       "CGAGTTATCACAAGGG-1_19    COVID19\n",
       "Name: condition, Length: 108822, dtype: object"
      ]
     },
     "execution_count": 12,
     "metadata": {},
     "output_type": "execute_result"
    }
   ],
   "source": [
    "adata.obs['condition'] = adata.obs.Sample.map(map_cond)\n",
    "adata.obs['condition']"
   ]
  },
  {
   "cell_type": "code",
   "execution_count": 14,
   "id": "5b4add71-f77b-4197-be2f-5cbb0a999575",
   "metadata": {},
   "outputs": [],
   "source": [
    "#Enconding the condition of the cell to numbers\n",
    "def encode(x):\n",
    "    if 'COVID19' in x:\n",
    "        return 1\n",
    "    else:\n",
    "        return 0"
   ]
  },
  {
   "cell_type": "code",
   "execution_count": 15,
   "id": "5fd040ca-2346-4e7e-9196-830de9e4539e",
   "metadata": {
    "tags": []
   },
   "outputs": [
    {
     "data": {
      "text/plain": [
       "TCCACCAAGAACCCGA-1_15    1\n",
       "GTGCTGGTCAGACCGC-1_15    1\n",
       "GTTTACTCATATCGGT-1_15    1\n",
       "TTGACCCTCTACTTCA-1_15    1\n",
       "GCACTAAGTTAGGCTT-1_15    1\n",
       "                        ..\n",
       "GTTGCTCGTGACACAG-1_19    1\n",
       "AGTCATGAGTGGTTCT-1_19    1\n",
       "AGCGTATCAGTTTGGT-1_19    1\n",
       "GTTCTATAGTCATACC-1_19    1\n",
       "CGAGTTATCACAAGGG-1_19    1\n",
       "Name: label, Length: 108822, dtype: int64"
      ]
     },
     "execution_count": 15,
     "metadata": {},
     "output_type": "execute_result"
    }
   ],
   "source": [
    "adata.obs['label'] = adata.obs.condition.map(encode)\n",
    "adata.obs['label']"
   ]
  },
  {
   "cell_type": "code",
   "execution_count": 20,
   "id": "36918bfd-063a-450e-9a33-a9eeb3e34a3d",
   "metadata": {},
   "outputs": [
    {
     "data": {
      "text/html": [
       "<div>\n",
       "<style scoped>\n",
       "    .dataframe tbody tr th:only-of-type {\n",
       "        vertical-align: middle;\n",
       "    }\n",
       "\n",
       "    .dataframe tbody tr th {\n",
       "        vertical-align: top;\n",
       "    }\n",
       "\n",
       "    .dataframe thead th {\n",
       "        text-align: right;\n",
       "    }\n",
       "</style>\n",
       "<table border=\"1\" class=\"dataframe\">\n",
       "  <thead>\n",
       "    <tr style=\"text-align: right;\">\n",
       "      <th></th>\n",
       "      <th>0</th>\n",
       "      <th>1</th>\n",
       "      <th>2</th>\n",
       "      <th>3</th>\n",
       "      <th>4</th>\n",
       "      <th>5</th>\n",
       "      <th>6</th>\n",
       "      <th>7</th>\n",
       "      <th>8</th>\n",
       "      <th>9</th>\n",
       "      <th>...</th>\n",
       "      <th>91</th>\n",
       "      <th>92</th>\n",
       "      <th>93</th>\n",
       "      <th>94</th>\n",
       "      <th>95</th>\n",
       "      <th>96</th>\n",
       "      <th>97</th>\n",
       "      <th>98</th>\n",
       "      <th>99</th>\n",
       "      <th>label</th>\n",
       "    </tr>\n",
       "  </thead>\n",
       "  <tbody>\n",
       "    <tr>\n",
       "      <th>0</th>\n",
       "      <td>40.291580</td>\n",
       "      <td>-8.542375</td>\n",
       "      <td>-11.340027</td>\n",
       "      <td>-6.175726</td>\n",
       "      <td>3.692961</td>\n",
       "      <td>6.233450</td>\n",
       "      <td>-3.116502</td>\n",
       "      <td>1.452153</td>\n",
       "      <td>12.789645</td>\n",
       "      <td>2.676724</td>\n",
       "      <td>...</td>\n",
       "      <td>1.410856</td>\n",
       "      <td>-0.017639</td>\n",
       "      <td>0.851175</td>\n",
       "      <td>0.541523</td>\n",
       "      <td>1.639984</td>\n",
       "      <td>-0.796506</td>\n",
       "      <td>-0.369771</td>\n",
       "      <td>-0.672564</td>\n",
       "      <td>0.494294</td>\n",
       "      <td>1</td>\n",
       "    </tr>\n",
       "    <tr>\n",
       "      <th>1</th>\n",
       "      <td>44.157379</td>\n",
       "      <td>-16.064678</td>\n",
       "      <td>24.996649</td>\n",
       "      <td>0.271868</td>\n",
       "      <td>-0.972442</td>\n",
       "      <td>0.786004</td>\n",
       "      <td>-4.532938</td>\n",
       "      <td>-3.848809</td>\n",
       "      <td>0.721454</td>\n",
       "      <td>-4.343195</td>\n",
       "      <td>...</td>\n",
       "      <td>1.038476</td>\n",
       "      <td>1.475651</td>\n",
       "      <td>0.852008</td>\n",
       "      <td>-0.237944</td>\n",
       "      <td>-0.405981</td>\n",
       "      <td>0.467138</td>\n",
       "      <td>-0.683971</td>\n",
       "      <td>0.534747</td>\n",
       "      <td>-0.095623</td>\n",
       "      <td>1</td>\n",
       "    </tr>\n",
       "    <tr>\n",
       "      <th>2</th>\n",
       "      <td>43.823128</td>\n",
       "      <td>-15.955371</td>\n",
       "      <td>-13.605520</td>\n",
       "      <td>-5.171760</td>\n",
       "      <td>13.025872</td>\n",
       "      <td>2.447882</td>\n",
       "      <td>-5.933302</td>\n",
       "      <td>-1.561514</td>\n",
       "      <td>6.325668</td>\n",
       "      <td>0.569982</td>\n",
       "      <td>...</td>\n",
       "      <td>0.545989</td>\n",
       "      <td>-1.072577</td>\n",
       "      <td>0.305195</td>\n",
       "      <td>-1.512244</td>\n",
       "      <td>0.508122</td>\n",
       "      <td>-0.552704</td>\n",
       "      <td>-0.607190</td>\n",
       "      <td>-0.931139</td>\n",
       "      <td>-0.442455</td>\n",
       "      <td>1</td>\n",
       "    </tr>\n",
       "    <tr>\n",
       "      <th>3</th>\n",
       "      <td>42.748772</td>\n",
       "      <td>-13.525289</td>\n",
       "      <td>20.337973</td>\n",
       "      <td>1.449124</td>\n",
       "      <td>-2.484318</td>\n",
       "      <td>0.740672</td>\n",
       "      <td>-2.683775</td>\n",
       "      <td>-1.425515</td>\n",
       "      <td>-1.034523</td>\n",
       "      <td>-3.915215</td>\n",
       "      <td>...</td>\n",
       "      <td>0.438786</td>\n",
       "      <td>-0.726325</td>\n",
       "      <td>-0.019437</td>\n",
       "      <td>-1.137509</td>\n",
       "      <td>-0.248739</td>\n",
       "      <td>-0.100827</td>\n",
       "      <td>1.330834</td>\n",
       "      <td>0.026138</td>\n",
       "      <td>-0.737101</td>\n",
       "      <td>1</td>\n",
       "    </tr>\n",
       "    <tr>\n",
       "      <th>4</th>\n",
       "      <td>44.995960</td>\n",
       "      <td>-16.343559</td>\n",
       "      <td>21.983391</td>\n",
       "      <td>0.919937</td>\n",
       "      <td>-3.019184</td>\n",
       "      <td>-0.706993</td>\n",
       "      <td>-1.842115</td>\n",
       "      <td>-5.222583</td>\n",
       "      <td>-5.903101</td>\n",
       "      <td>-6.056580</td>\n",
       "      <td>...</td>\n",
       "      <td>0.022384</td>\n",
       "      <td>-0.471095</td>\n",
       "      <td>0.632267</td>\n",
       "      <td>-0.329095</td>\n",
       "      <td>-0.448617</td>\n",
       "      <td>-0.580567</td>\n",
       "      <td>-0.305460</td>\n",
       "      <td>-0.640575</td>\n",
       "      <td>1.094528</td>\n",
       "      <td>1</td>\n",
       "    </tr>\n",
       "    <tr>\n",
       "      <th>...</th>\n",
       "      <td>...</td>\n",
       "      <td>...</td>\n",
       "      <td>...</td>\n",
       "      <td>...</td>\n",
       "      <td>...</td>\n",
       "      <td>...</td>\n",
       "      <td>...</td>\n",
       "      <td>...</td>\n",
       "      <td>...</td>\n",
       "      <td>...</td>\n",
       "      <td>...</td>\n",
       "      <td>...</td>\n",
       "      <td>...</td>\n",
       "      <td>...</td>\n",
       "      <td>...</td>\n",
       "      <td>...</td>\n",
       "      <td>...</td>\n",
       "      <td>...</td>\n",
       "      <td>...</td>\n",
       "      <td>...</td>\n",
       "      <td>...</td>\n",
       "    </tr>\n",
       "    <tr>\n",
       "      <th>108817</th>\n",
       "      <td>16.565659</td>\n",
       "      <td>-7.530415</td>\n",
       "      <td>10.719836</td>\n",
       "      <td>-0.850523</td>\n",
       "      <td>-1.545491</td>\n",
       "      <td>-0.180691</td>\n",
       "      <td>-1.704596</td>\n",
       "      <td>-0.249556</td>\n",
       "      <td>0.348933</td>\n",
       "      <td>-0.112821</td>\n",
       "      <td>...</td>\n",
       "      <td>2.226433</td>\n",
       "      <td>0.214887</td>\n",
       "      <td>0.833502</td>\n",
       "      <td>-0.562921</td>\n",
       "      <td>0.763854</td>\n",
       "      <td>-2.831335</td>\n",
       "      <td>-0.763439</td>\n",
       "      <td>0.367545</td>\n",
       "      <td>-1.785835</td>\n",
       "      <td>1</td>\n",
       "    </tr>\n",
       "    <tr>\n",
       "      <th>108818</th>\n",
       "      <td>17.923738</td>\n",
       "      <td>-3.406230</td>\n",
       "      <td>3.490632</td>\n",
       "      <td>1.309478</td>\n",
       "      <td>3.441758</td>\n",
       "      <td>-1.209301</td>\n",
       "      <td>7.863941</td>\n",
       "      <td>2.699094</td>\n",
       "      <td>0.698423</td>\n",
       "      <td>-2.582576</td>\n",
       "      <td>...</td>\n",
       "      <td>0.345520</td>\n",
       "      <td>0.646009</td>\n",
       "      <td>-0.071903</td>\n",
       "      <td>-0.382962</td>\n",
       "      <td>-1.656354</td>\n",
       "      <td>0.928419</td>\n",
       "      <td>2.261708</td>\n",
       "      <td>0.595607</td>\n",
       "      <td>0.748171</td>\n",
       "      <td>1</td>\n",
       "    </tr>\n",
       "    <tr>\n",
       "      <th>108819</th>\n",
       "      <td>20.704765</td>\n",
       "      <td>7.100773</td>\n",
       "      <td>0.082305</td>\n",
       "      <td>-3.760617</td>\n",
       "      <td>0.330376</td>\n",
       "      <td>-2.135886</td>\n",
       "      <td>0.065738</td>\n",
       "      <td>0.674006</td>\n",
       "      <td>-2.221861</td>\n",
       "      <td>1.675932</td>\n",
       "      <td>...</td>\n",
       "      <td>2.387101</td>\n",
       "      <td>-0.706411</td>\n",
       "      <td>-2.805866</td>\n",
       "      <td>-0.668848</td>\n",
       "      <td>0.586256</td>\n",
       "      <td>-0.148084</td>\n",
       "      <td>-0.147903</td>\n",
       "      <td>1.691405</td>\n",
       "      <td>-1.238830</td>\n",
       "      <td>1</td>\n",
       "    </tr>\n",
       "    <tr>\n",
       "      <th>108820</th>\n",
       "      <td>17.506933</td>\n",
       "      <td>-7.523550</td>\n",
       "      <td>8.424211</td>\n",
       "      <td>0.277662</td>\n",
       "      <td>-3.479473</td>\n",
       "      <td>-0.864789</td>\n",
       "      <td>-1.871050</td>\n",
       "      <td>-1.385671</td>\n",
       "      <td>-3.429899</td>\n",
       "      <td>-0.925945</td>\n",
       "      <td>...</td>\n",
       "      <td>0.893965</td>\n",
       "      <td>2.230843</td>\n",
       "      <td>1.520644</td>\n",
       "      <td>1.036332</td>\n",
       "      <td>-1.739078</td>\n",
       "      <td>-1.386750</td>\n",
       "      <td>-1.864486</td>\n",
       "      <td>-2.400704</td>\n",
       "      <td>-0.732613</td>\n",
       "      <td>1</td>\n",
       "    </tr>\n",
       "    <tr>\n",
       "      <th>108821</th>\n",
       "      <td>18.442438</td>\n",
       "      <td>-6.848763</td>\n",
       "      <td>-6.855072</td>\n",
       "      <td>-1.187018</td>\n",
       "      <td>2.556739</td>\n",
       "      <td>0.301479</td>\n",
       "      <td>-1.468193</td>\n",
       "      <td>-0.735791</td>\n",
       "      <td>0.717301</td>\n",
       "      <td>0.277522</td>\n",
       "      <td>...</td>\n",
       "      <td>1.580578</td>\n",
       "      <td>-0.113640</td>\n",
       "      <td>-0.218272</td>\n",
       "      <td>-0.489103</td>\n",
       "      <td>-1.485605</td>\n",
       "      <td>0.288366</td>\n",
       "      <td>-0.069400</td>\n",
       "      <td>-0.864561</td>\n",
       "      <td>0.448976</td>\n",
       "      <td>1</td>\n",
       "    </tr>\n",
       "  </tbody>\n",
       "</table>\n",
       "<p>108822 rows × 101 columns</p>\n",
       "</div>"
      ],
      "text/plain": [
       "                0          1          2         3          4         5  \\\n",
       "0       40.291580  -8.542375 -11.340027 -6.175726   3.692961  6.233450   \n",
       "1       44.157379 -16.064678  24.996649  0.271868  -0.972442  0.786004   \n",
       "2       43.823128 -15.955371 -13.605520 -5.171760  13.025872  2.447882   \n",
       "3       42.748772 -13.525289  20.337973  1.449124  -2.484318  0.740672   \n",
       "4       44.995960 -16.343559  21.983391  0.919937  -3.019184 -0.706993   \n",
       "...           ...        ...        ...       ...        ...       ...   \n",
       "108817  16.565659  -7.530415  10.719836 -0.850523  -1.545491 -0.180691   \n",
       "108818  17.923738  -3.406230   3.490632  1.309478   3.441758 -1.209301   \n",
       "108819  20.704765   7.100773   0.082305 -3.760617   0.330376 -2.135886   \n",
       "108820  17.506933  -7.523550   8.424211  0.277662  -3.479473 -0.864789   \n",
       "108821  18.442438  -6.848763  -6.855072 -1.187018   2.556739  0.301479   \n",
       "\n",
       "               6         7          8         9  ...        91        92  \\\n",
       "0      -3.116502  1.452153  12.789645  2.676724  ...  1.410856 -0.017639   \n",
       "1      -4.532938 -3.848809   0.721454 -4.343195  ...  1.038476  1.475651   \n",
       "2      -5.933302 -1.561514   6.325668  0.569982  ...  0.545989 -1.072577   \n",
       "3      -2.683775 -1.425515  -1.034523 -3.915215  ...  0.438786 -0.726325   \n",
       "4      -1.842115 -5.222583  -5.903101 -6.056580  ...  0.022384 -0.471095   \n",
       "...          ...       ...        ...       ...  ...       ...       ...   \n",
       "108817 -1.704596 -0.249556   0.348933 -0.112821  ...  2.226433  0.214887   \n",
       "108818  7.863941  2.699094   0.698423 -2.582576  ...  0.345520  0.646009   \n",
       "108819  0.065738  0.674006  -2.221861  1.675932  ...  2.387101 -0.706411   \n",
       "108820 -1.871050 -1.385671  -3.429899 -0.925945  ...  0.893965  2.230843   \n",
       "108821 -1.468193 -0.735791   0.717301  0.277522  ...  1.580578 -0.113640   \n",
       "\n",
       "              93        94        95        96        97        98        99  \\\n",
       "0       0.851175  0.541523  1.639984 -0.796506 -0.369771 -0.672564  0.494294   \n",
       "1       0.852008 -0.237944 -0.405981  0.467138 -0.683971  0.534747 -0.095623   \n",
       "2       0.305195 -1.512244  0.508122 -0.552704 -0.607190 -0.931139 -0.442455   \n",
       "3      -0.019437 -1.137509 -0.248739 -0.100827  1.330834  0.026138 -0.737101   \n",
       "4       0.632267 -0.329095 -0.448617 -0.580567 -0.305460 -0.640575  1.094528   \n",
       "...          ...       ...       ...       ...       ...       ...       ...   \n",
       "108817  0.833502 -0.562921  0.763854 -2.831335 -0.763439  0.367545 -1.785835   \n",
       "108818 -0.071903 -0.382962 -1.656354  0.928419  2.261708  0.595607  0.748171   \n",
       "108819 -2.805866 -0.668848  0.586256 -0.148084 -0.147903  1.691405 -1.238830   \n",
       "108820  1.520644  1.036332 -1.739078 -1.386750 -1.864486 -2.400704 -0.732613   \n",
       "108821 -0.218272 -0.489103 -1.485605  0.288366 -0.069400 -0.864561  0.448976   \n",
       "\n",
       "        label  \n",
       "0           1  \n",
       "1           1  \n",
       "2           1  \n",
       "3           1  \n",
       "4           1  \n",
       "...       ...  \n",
       "108817      1  \n",
       "108818      1  \n",
       "108819      1  \n",
       "108820      1  \n",
       "108821      1  \n",
       "\n",
       "[108822 rows x 101 columns]"
      ]
     },
     "execution_count": 20,
     "metadata": {},
     "output_type": "execute_result"
    }
   ],
   "source": [
    "labels = adata.obs['label']\n",
    "svd_df = pd.DataFrame(svd_matrix)\n",
    "combined_data = pd.concat([svd_df, labels], axis=1)\n",
    "svd_df['label'] = labels.values\n",
    "svd_df"
   ]
  },
  {
   "cell_type": "code",
   "execution_count": 23,
   "id": "8562825a-0b14-4a5a-82af-1b2d8551a7ef",
   "metadata": {
    "tags": []
   },
   "outputs": [
    {
     "data": {
      "text/plain": [
       "(108822, 101)"
      ]
     },
     "execution_count": 23,
     "metadata": {},
     "output_type": "execute_result"
    }
   ],
   "source": [
    "data = svd_df.to_numpy()\n",
    "data.shape"
   ]
  },
  {
   "cell_type": "code",
   "execution_count": 32,
   "id": "fac1652e-fe79-4305-bf74-8f5cae76f6e2",
   "metadata": {
    "tags": []
   },
   "outputs": [
    {
     "data": {
      "text/plain": [
       "(77057, 15883, 15882)"
      ]
     },
     "execution_count": 32,
     "metadata": {},
     "output_type": "execute_result"
    }
   ],
   "source": [
    "trainset, valset, testset = torch.utils.data.random_split(data, [77057, 15883, 15882])\n",
    "len(trainset), len(valset), len(testset)"
   ]
  },
  {
   "cell_type": "code",
   "execution_count": 35,
   "id": "69dbae35-4a64-4955-9460-a2c8815fa2db",
   "metadata": {
    "tags": []
   },
   "outputs": [],
   "source": [
    "Batch_size = 100"
   ]
  },
  {
   "cell_type": "code",
   "execution_count": 36,
   "id": "8d87a881-3f40-4332-ba19-ab03b9233b2e",
   "metadata": {
    "tags": []
   },
   "outputs": [],
   "source": [
    "trainloader = torch.utils.data.DataLoader(trainset, batch_size=Batch_size,\n",
    "                                          shuffle=True, num_workers=2)\n",
    "\n",
    "valloader = torch.utils.data.DataLoader(valset, batch_size=Batch_size,\n",
    "                                          shuffle=True, num_workers=2)\n",
    "\n",
    "testloader = torch.utils.data.DataLoader(testset, batch_size=Batch_size,\n",
    "                                          shuffle=True, num_workers=2)"
   ]
  },
  {
   "cell_type": "code",
   "execution_count": null,
   "id": "526d9cb2-9d79-4a51-bd16-103ae2541301",
   "metadata": {},
   "outputs": [],
   "source": []
  },
  {
   "cell_type": "code",
   "execution_count": null,
   "id": "a24ce5cc-05c4-4597-89df-9f5794355733",
   "metadata": {},
   "outputs": [],
   "source": []
  },
  {
   "cell_type": "code",
   "execution_count": null,
   "id": "46abafc0-47ff-4d05-901c-92d016db2ffe",
   "metadata": {},
   "outputs": [],
   "source": [
    "#IDEAS\n",
    "#first train an MLP on the SVD output \n",
    "#Try using an autoencoder and then training on that latent representation\n",
    "#Start simple from an MLP and then use GCN maybe"
   ]
  },
  {
   "cell_type": "markdown",
   "id": "51e45e64-c7cb-432b-bf2c-77759fd086c0",
   "metadata": {},
   "source": [
    "# **MLP Training**"
   ]
  },
  {
   "cell_type": "code",
   "execution_count": 93,
   "id": "3165c29a-f4ad-4a17-977a-5a54bfebc181",
   "metadata": {
    "tags": []
   },
   "outputs": [],
   "source": [
    "class Covid_MLP(nn.Module):\n",
    "    def __init__(self):\n",
    "        super(Covid_MLP, self).__init__()\n",
    "        \n",
    "        self.fc1 = nn.Linear(100, 75)\n",
    "        self.fc2 = nn.Linear(75, 50)\n",
    "        self.fc3 = nn.Linear(50, 25)\n",
    "        self.output = nn.Linear(25, 2)\n",
    "        \n",
    "        self.BN1 = nn.BatchNorm1d(75)\n",
    "        self.BN2 = nn.BatchNorm1d(50)\n",
    "        self.BN3 = nn.BatchNorm1d(25)\n",
    "        \n",
    "        self.drop = nn.Dropout(p=0.2)\n",
    "        \n",
    "        \n",
    "    def forward(self, x):\n",
    "        x = F.relu(self.fc1(x))\n",
    "        x = self.BN1(x)\n",
    "        x = self.drop(x)\n",
    "        \n",
    "        x = F.relu(self.fc2(x))\n",
    "        x = self.BN2(x)\n",
    "        x = self.drop(x)\n",
    "        \n",
    "        x = F.relu(self.fc3(x))\n",
    "        x = self.BN3(x)\n",
    "        x = self.drop(x)\n",
    "        \n",
    "        x = self.output(x)\n",
    "        return x"
   ]
  },
  {
   "cell_type": "code",
   "execution_count": 94,
   "id": "4615944d-0d14-4fa9-ac7d-15a4f10055da",
   "metadata": {
    "tags": []
   },
   "outputs": [],
   "source": [
    "import torch.optim as optim\n",
    "from tqdm.notebook import tqdm\n",
    "from sklearn.metrics import classification_report, confusion_matrix\n",
    "\n",
    "model = Covid_MLP().to(device)\n",
    "\n",
    "criterion = nn.CrossEntropyLoss()\n",
    "optimizer = torch.optim.Adam(model.parameters(), lr=0.0001)\n",
    "\n",
    "num_epochs = 10\n",
    "#epochs = tqdm(range(num_epochs))"
   ]
  },
  {
   "cell_type": "code",
   "execution_count": 65,
   "id": "66dd4044-39f5-4092-a53d-2a4851f043c9",
   "metadata": {
    "tags": []
   },
   "outputs": [
    {
     "name": "stdout",
     "output_type": "stream",
     "text": [
      "\n"
     ]
    }
   ],
   "source": [
    "def train_one_epoch():\n",
    "  model.train(True)\n",
    "\n",
    "  running_loss = 0.0\n",
    "  running_accuracy = 0.0\n",
    "\n",
    "  for batch_idx, data in enumerate(trainloader):\n",
    "    inputs, labels = data[:, :-1].to(device).float(), data[:, -1].long().to(device)\n",
    "\n",
    "    optimizer.zero_grad()\n",
    "\n",
    "    outputs = model(inputs) \n",
    "    correct = torch.sum(labels == torch.argmax(outputs, dim=1)).item()\n",
    "    running_accuracy += correct/Batch_size\n",
    "\n",
    "    loss = criterion(outputs, labels)\n",
    "    running_loss += loss.item()\n",
    "    loss.backward()\n",
    "    optimizer.step()\n",
    "\n",
    "    if batch_idx % 500 == 499: #printing every 500 batch\n",
    "      avg_loss_across_batches = running_loss / 500\n",
    "      avg_acc_across_batches = (running_accuracy/500) * 100\n",
    "      print('Batch {0}, Loss: {1:.3f}, Accuracy: {2:.1f}%'.format(batch_idx,\n",
    "                                                                  avg_loss_across_batches,\n",
    "                                                                  avg_acc_across_batches))\n",
    "      running_loss = 0.0\n",
    "      running_accuracy = 0.0\n",
    "\n",
    "print()\n"
   ]
  },
  {
   "cell_type": "code",
   "execution_count": 95,
   "id": "12cede44-a2af-4c62-bfdb-27c684581419",
   "metadata": {
    "tags": []
   },
   "outputs": [],
   "source": [
    "def train_one_epoch():\n",
    "    model.train(True)\n",
    "    \n",
    "    running_loss = 0.0\n",
    "    running_accuracy = 0.0\n",
    "\n",
    "    for batch_idx, data in enumerate(trainloader):\n",
    "        inputs, labels = data[:, :-1].to(device).float(), data[:, -1].long().to(device)\n",
    "\n",
    "        optimizer.zero_grad()\n",
    "        outputs = model(inputs)\n",
    "        loss = criterion(outputs, labels)\n",
    "        loss.backward()\n",
    "        optimizer.step()\n",
    "\n",
    "        running_loss += loss.item()\n",
    "        correct = torch.sum(labels == torch.argmax(outputs, dim=1)).item()\n",
    "        running_accuracy += correct / Batch_size\n",
    "\n",
    "    avg_loss = running_loss / len(trainloader)\n",
    "    avg_accuracy = running_accuracy / len(trainloader) * 100\n",
    "    return avg_loss, avg_accuracy"
   ]
  },
  {
   "cell_type": "code",
   "execution_count": 96,
   "id": "94c6e8ad-95ee-4d20-b192-ebce77e159b5",
   "metadata": {
    "tags": []
   },
   "outputs": [],
   "source": [
    "def validate_one_epoch():\n",
    "    model.train(False)\n",
    "    running_loss = 0.0\n",
    "    running_accuracy = 0.0\n",
    "\n",
    "    for i, data in enumerate(valloader):\n",
    "        inputs, labels = data[:, :-1].to(device).float(), data[:, -1].long().to(device)\n",
    "\n",
    "        with torch.no_grad():\n",
    "            outputs = model(inputs) # shape: [batch_size, 10]\n",
    "            correct = torch.sum(labels == torch.argmax(outputs, dim=1)).item()\n",
    "            running_accuracy += correct / Batch_size\n",
    "            loss = criterion(outputs, labels) # One number, the average batch loss\n",
    "            running_loss += loss.item()\n",
    "\n",
    "    avg_loss_across_batches = running_loss / len(valloader)\n",
    "    avg_acc_across_batches = (running_accuracy / len(valloader)) * 100\n",
    "\n",
    "    print('Val Loss: {0:.3f}, Val Accuracy: {1:.1f}%'.format(avg_loss_across_batches,\n",
    "                                                            avg_acc_across_batches))\n",
    "    print('***************************************************')\n",
    "    print()"
   ]
  },
  {
   "cell_type": "code",
   "execution_count": 67,
   "id": "f45fbcb4-85a6-443a-af1d-4b4c3f1a177d",
   "metadata": {
    "tags": []
   },
   "outputs": [
    {
     "name": "stdout",
     "output_type": "stream",
     "text": [
      "Epoch: 1\n",
      "\n",
      "Batch 499, Loss: 0.463, Accuracy: 78.8%\n",
      "Val Loss: 0.176, Val Accuracy: 94.2%\n",
      "***************************************************\n",
      "\n",
      "Epoch: 2\n",
      "\n",
      "Batch 499, Loss: 0.195, Accuracy: 92.6%\n",
      "Val Loss: 0.121, Val Accuracy: 95.5%\n",
      "***************************************************\n",
      "\n",
      "Epoch: 3\n",
      "\n",
      "Batch 499, Loss: 0.153, Accuracy: 94.1%\n",
      "Val Loss: 0.108, Val Accuracy: 95.9%\n",
      "***************************************************\n",
      "\n",
      "Epoch: 4\n",
      "\n",
      "Batch 499, Loss: 0.141, Accuracy: 94.7%\n",
      "Val Loss: 0.102, Val Accuracy: 96.1%\n",
      "***************************************************\n",
      "\n",
      "Epoch: 5\n",
      "\n",
      "Batch 499, Loss: 0.130, Accuracy: 95.0%\n",
      "Val Loss: 0.095, Val Accuracy: 96.2%\n",
      "***************************************************\n",
      "\n",
      "Epoch: 6\n",
      "\n",
      "Batch 499, Loss: 0.122, Accuracy: 95.4%\n",
      "Val Loss: 0.091, Val Accuracy: 96.4%\n",
      "***************************************************\n",
      "\n",
      "Epoch: 7\n",
      "\n",
      "Batch 499, Loss: 0.115, Accuracy: 95.6%\n",
      "Val Loss: 0.086, Val Accuracy: 96.5%\n",
      "***************************************************\n",
      "\n",
      "Epoch: 8\n",
      "\n",
      "Batch 499, Loss: 0.112, Accuracy: 95.7%\n",
      "Val Loss: 0.082, Val Accuracy: 96.8%\n",
      "***************************************************\n",
      "\n",
      "Epoch: 9\n",
      "\n",
      "Batch 499, Loss: 0.106, Accuracy: 96.0%\n",
      "Val Loss: 0.080, Val Accuracy: 96.8%\n",
      "***************************************************\n",
      "\n",
      "Epoch: 10\n",
      "\n",
      "Batch 499, Loss: 0.099, Accuracy: 96.3%\n",
      "Val Loss: 0.077, Val Accuracy: 96.8%\n",
      "***************************************************\n",
      "\n",
      "Training Done!\n"
     ]
    }
   ],
   "source": [
    "for epoch_idx in range(num_epochs):\n",
    "  print(f'Epoch: {epoch_idx + 1}\\n')\n",
    "\n",
    "  train_one_epoch()\n",
    "\n",
    "  validate_one_epoch()\n",
    "\n",
    "print(\"Training Done!\")"
   ]
  },
  {
   "cell_type": "code",
   "execution_count": 97,
   "id": "5edc70b8-0e8c-4267-b857-67a9ecf4e8ab",
   "metadata": {
    "tags": []
   },
   "outputs": [
    {
     "name": "stdout",
     "output_type": "stream",
     "text": [
      "Epoch 1: Average Loss per Epoch = 0.4447, Accuracy = 79.21%\n",
      "Val Loss: 0.202, Val Accuracy: 93.7%\n",
      "***************************************************\n",
      "\n",
      "Epoch 2: Average Loss per Epoch = 0.1917, Accuracy = 93.03%\n",
      "Val Loss: 0.121, Val Accuracy: 95.5%\n",
      "***************************************************\n",
      "\n",
      "Epoch 3: Average Loss per Epoch = 0.1465, Accuracy = 94.45%\n",
      "Val Loss: 0.107, Val Accuracy: 95.8%\n",
      "***************************************************\n",
      "\n",
      "Epoch 4: Average Loss per Epoch = 0.1328, Accuracy = 94.90%\n",
      "Val Loss: 0.099, Val Accuracy: 96.1%\n",
      "***************************************************\n",
      "\n",
      "Epoch 5: Average Loss per Epoch = 0.1240, Accuracy = 95.27%\n",
      "Val Loss: 0.094, Val Accuracy: 96.2%\n",
      "***************************************************\n",
      "\n",
      "Epoch 6: Average Loss per Epoch = 0.1167, Accuracy = 95.56%\n",
      "Val Loss: 0.088, Val Accuracy: 96.5%\n",
      "***************************************************\n",
      "\n",
      "Epoch 7: Average Loss per Epoch = 0.1118, Accuracy = 95.68%\n",
      "Val Loss: 0.084, Val Accuracy: 96.6%\n",
      "***************************************************\n",
      "\n",
      "Epoch 8: Average Loss per Epoch = 0.1067, Accuracy = 95.94%\n",
      "Val Loss: 0.081, Val Accuracy: 96.7%\n",
      "***************************************************\n",
      "\n",
      "Epoch 9: Average Loss per Epoch = 0.1039, Accuracy = 95.96%\n",
      "Val Loss: 0.079, Val Accuracy: 96.8%\n",
      "***************************************************\n",
      "\n",
      "Epoch 10: Average Loss per Epoch = 0.0972, Accuracy = 96.30%\n",
      "Val Loss: 0.076, Val Accuracy: 96.9%\n",
      "***************************************************\n",
      "\n"
     ]
    }
   ],
   "source": [
    "train_losses = []\n",
    "train_accuracies = []\n",
    "for epoch in range(num_epochs):\n",
    "    loss, accuracy = train_one_epoch()\n",
    "    train_losses.append(loss)\n",
    "    train_accuracies.append(accuracy)\n",
    "    print(f\"Epoch {epoch+1}: Average Loss per Epoch = {loss:.4f}, Accuracy = {accuracy:.2f}%\")\n",
    "    validate_one_epoch()"
   ]
  },
  {
   "cell_type": "code",
   "execution_count": 98,
   "id": "55ec3b29-9648-4567-98da-448158039c25",
   "metadata": {
    "tags": []
   },
   "outputs": [
    {
     "data": {
      "image/png": "[encoded data removed]",
      "text/plain": [
       "<Figure size 800x600 with 1 Axes>"
      ]
     },
     "metadata": {},
     "output_type": "display_data"
    }
   ],
   "source": [
    "plt.figure(figsize=(8, 6))\n",
    "plt.plot(train_losses, label='Training Loss')\n",
    "plt.xlabel('Epoch')\n",
    "plt.ylabel('Loss')\n",
    "plt.title('Training Loss Over Time')\n",
    "plt.legend()\n",
    "plt.show()"
   ]
  },
  {
   "cell_type": "code",
   "execution_count": 99,
   "id": "8b202025-3144-4beb-b136-2fcc30d21fb4",
   "metadata": {
    "tags": []
   },
   "outputs": [
    {
     "data": {
      "image/png": "[encoded data removed]",
      "text/plain": [
       "<Figure size 800x600 with 1 Axes>"
      ]
     },
     "metadata": {},
     "output_type": "display_data"
    }
   ],
   "source": [
    "plt.figure(figsize=(8, 6))\n",
    "plt.plot(train_accuracies, label='Training Accuracies')\n",
    "plt.xlabel('Epoch')\n",
    "plt.ylabel('Accuracy')\n",
    "plt.title('Training Accuracy Over Time')\n",
    "plt.legend()\n",
    "plt.show()"
   ]
  },
  {
   "cell_type": "markdown",
   "id": "f676d072-b9f5-4a2f-88ce-eea6acec3d59",
   "metadata": {},
   "source": [
    "**Testing Phase**"
   ]
  },
  {
   "cell_type": "code",
   "execution_count": 68,
   "id": "d34ce3eb-c60e-4b5f-9938-89b3400737d5",
   "metadata": {
    "tags": []
   },
   "outputs": [],
   "source": [
    "def test_data(testloader):\n",
    "    model.eval()\n",
    "    running_loss = 0.0\n",
    "    running_accuracy = 0.0\n",
    "\n",
    "    for i, data in enumerate(testloader):\n",
    "        inputs, labels = data[:, :-1].to(device).float(), data[:, -1].long().to(device)\n",
    "\n",
    "        with torch.no_grad():\n",
    "            outputs = model(inputs) \n",
    "            correct = torch.sum(labels == torch.argmax(outputs, dim=1)).item()\n",
    "            running_accuracy += correct / Batch_size\n",
    "            loss = criterion(outputs, labels) # One number, the average batch loss\n",
    "            running_loss += loss.item()\n",
    "\n",
    "    avg_loss_across_batches = running_loss / len(testloader)\n",
    "    avg_acc_across_batches = (running_accuracy / len(testloader)) * 100\n",
    "\n",
    "    print('Test Loss: {0:.3f}, Test Accuracy: {1:.1f}%'.format(avg_loss_across_batches,\n",
    "                                                            avg_acc_across_batches))\n",
    "    print('***************************************************')\n",
    "    print()"
   ]
  },
  {
   "cell_type": "code",
   "execution_count": 69,
   "id": "ec739e5e-fabe-4e5e-9938-d35bab23236f",
   "metadata": {
    "tags": []
   },
   "outputs": [
    {
     "name": "stdout",
     "output_type": "stream",
     "text": [
      "Test Loss: 0.079, Test Accuracy: 96.8%\n",
      "***************************************************\n",
      "\n"
     ]
    }
   ],
   "source": [
    "test_data(testloader)"
   ]
  },
  {
   "cell_type": "code",
   "execution_count": 79,
   "id": "9aba7df9-c79d-4f09-aaf3-68371b5516f5",
   "metadata": {
    "tags": []
   },
   "outputs": [],
   "source": [
    "all_labels = []\n",
    "all_preds = []\n",
    "\n",
    "model.eval()\n",
    "with torch.no_grad():\n",
    "    for data in testloader:\n",
    "        inputs, labels = data[:, :-1].to(device).float(), data[:, -1].to(device)\n",
    "        outputs = model(inputs)\n",
    "        _, predicted = torch.max(outputs, 1)\n",
    "        \n",
    "        all_labels.extend(labels.cpu().numpy())\n",
    "        all_preds.extend(predicted.cpu().numpy())\n",
    "\n",
    "conf_matrix = confusion_matrix(all_labels, all_preds)"
   ]
  },
  {
   "cell_type": "code",
   "execution_count": 80,
   "id": "05f2e291-9439-4e4b-943d-991efa030266",
   "metadata": {
    "tags": []
   },
   "outputs": [],
   "source": [
    "class_accuracies = conf_matrix.diagonal() / conf_matrix.sum(axis=1)\n"
   ]
  },
  {
   "cell_type": "code",
   "execution_count": 81,
   "id": "ba249646-d95a-40eb-bc4f-1b0ac315c771",
   "metadata": {
    "tags": []
   },
   "outputs": [
    {
     "data": {
      "text/plain": [
       "array([0.95771096, 0.97417731])"
      ]
     },
     "execution_count": 81,
     "metadata": {},
     "output_type": "execute_result"
    }
   ],
   "source": [
    "class_accuracies"
   ]
  },
  {
   "cell_type": "code",
   "execution_count": 100,
   "id": "537b4562-65f6-4e78-a603-24f835bd356e",
   "metadata": {
    "tags": []
   },
   "outputs": [],
   "source": [
    "from sklearn.metrics import roc_curve, auc\n",
    "import torch\n",
    "\n",
    "model.eval()  # Set the model to evaluation mode\n",
    "all_labels = []\n",
    "all_probs = []\n",
    "\n",
    "with torch.no_grad():\n",
    "    for data in testloader:\n",
    "        inputs, labels = data[:, :-1].to(device).float(), data[:, -1].to(device)\n",
    "        outputs = model(inputs)\n",
    "        probabilities = torch.nn.functional.softmax(outputs, dim=1)[:, 1]  # Get probabilities for the positive class\n",
    "\n",
    "        all_labels.extend(labels.cpu().numpy())\n",
    "        all_probs.extend(probabilities.cpu().numpy())\n"
   ]
  },
  {
   "cell_type": "code",
   "execution_count": 101,
   "id": "495eac10-51b9-428a-8f6c-d35a33e8ac7c",
   "metadata": {
    "tags": []
   },
   "outputs": [],
   "source": [
    "fpr, tpr, thresholds = roc_curve(all_labels, all_probs)\n",
    "roc_auc = auc(fpr, tpr)"
   ]
  },
  {
   "cell_type": "code",
   "execution_count": 102,
   "id": "1fdd4d48-d64a-43ee-86e9-882eb33ff94c",
   "metadata": {},
   "outputs": [
    {
     "data": {
      "image/png": "[encoded data removed]",
      "text/plain": [
       "<Figure size 640x480 with 1 Axes>"
      ]
     },
     "metadata": {},
     "output_type": "display_data"
    }
   ],
   "source": [
    "plt.figure()\n",
    "plt.plot(fpr, tpr, color='darkorange', lw=2, label='ROC curve (area = %0.2f)' % roc_auc)\n",
    "plt.plot([0, 1], [0, 1], color='navy', lw=2, linestyle='--')\n",
    "plt.xlim([0.0, 1.0])\n",
    "plt.ylim([0.0, 1.05])\n",
    "plt.xlabel('False Positive Rate')\n",
    "plt.ylabel('True Positive Rate')\n",
    "plt.title('Receiver Operating Characteristic')\n",
    "plt.legend(loc=\"lower right\")\n",
    "plt.show()"
   ]
  },
  {
   "cell_type": "code",
   "execution_count": null,
   "id": "bb6ef04b-99fa-4cf4-9a77-914b219360eb",
   "metadata": {},
   "outputs": [],
   "source": [
    "#It doesn't make sense to test with the same dataset: so we will find another dataset for testing!!!!!!!!!!\n",
    "#However we will like to select COVID-19 gene signatures that are predictive of the outcome\n",
    "#Maybe use an autoencoder after slecting the gene signatures from literature before training \n",
    "\n",
    "\n",
    "#Things to do moving forward: Redivide for training and validation and then use external dataset for validation\n",
    "#Understanding the context and relationships among variables is crucial for effective collinearity reduction. Feature selection using domain knowledge as well as methods like PCA mitigates multicollinearity.\n",
    "\n"
   ]
  },
  {
   "cell_type": "code",
   "execution_count": 12,
   "id": "c17551ed-4eba-485d-88d0-3ba122ee0594",
   "metadata": {
    "tags": []
   },
   "outputs": [
    {
     "data": {
      "text/plain": [
       "<108822x2 sparse matrix of type '<class 'numpy.float32'>'\n",
       "\twith 564 stored elements in Compressed Sparse Row format>"
      ]
     },
     "execution_count": 12,
     "metadata": {},
     "output_type": "execute_result"
    }
   ],
   "source": [
    "selected_genes = ['CLEC4D', 'UNC5A', 'AURKB']  # replace with your genes of interest\n",
    "gene_counts = adata[:, selected_genes].X\n",
    "gene_counts"
   ]
  },
  {
   "cell_type": "code",
   "execution_count": 16,
   "id": "1d125087-38e5-445e-af83-df499a3b54d3",
   "metadata": {
    "tags": []
   },
   "outputs": [
    {
     "data": {
      "text/plain": [
       "True"
      ]
     },
     "execution_count": 16,
     "metadata": {},
     "output_type": "execute_result"
    }
   ],
   "source": [
    "\"AURKB\" in adata.var.index.tolist()"
   ]
  },
  {
   "cell_type": "code",
   "execution_count": 15,
   "id": "53d81d9b-b172-4434-9ab5-9ef96254aec2",
   "metadata": {
    "tags": []
   },
   "outputs": [
    {
     "data": {
      "text/plain": [
       "21306"
      ]
     },
     "execution_count": 15,
     "metadata": {},
     "output_type": "execute_result"
    }
   ],
   "source": [
    "len(adata.var.index.tolist())."
   ]
  },
  {
   "cell_type": "code",
   "execution_count": 22,
   "id": "6c6699c7-6747-4565-9804-3d5aaecbfe4c",
   "metadata": {
    "tags": []
   },
   "outputs": [
    {
     "data": {
      "text/plain": [
       "pandas.core.indexes.base.Index"
      ]
     },
     "execution_count": 22,
     "metadata": {},
     "output_type": "execute_result"
    }
   ],
   "source": []
  },
  {
   "cell_type": "code",
   "execution_count": null,
   "id": "097b8b7f-3c83-4ccb-85d8-163bb011efd6",
   "metadata": {},
   "outputs": [],
   "source": []
  },
  {
   "cell_type": "code",
   "execution_count": null,
   "id": "4600bf01-c294-4316-a47c-d1fe0a7a3cbe",
   "metadata": {},
   "outputs": [],
   "source": []
  },
  {
   "cell_type": "code",
   "execution_count": null,
   "id": "1ce9f8c4-77e4-4d76-a1c0-66a6bddf0731",
   "metadata": {},
   "outputs": [],
   "source": []
  },
  {
   "cell_type": "code",
   "execution_count": null,
   "id": "75e06fac-0770-4be6-9d4b-c7931b9427f6",
   "metadata": {},
   "outputs": [],
   "source": []
  },
  {
   "cell_type": "code",
   "execution_count": null,
   "id": "0cfb3ddf-4127-451e-9600-bdc14be6f020",
   "metadata": {},
   "outputs": [],
   "source": []
  },
  {
   "cell_type": "code",
   "execution_count": null,
   "id": "3201f8a7-b8c5-41a7-985a-8f6c4d393e59",
   "metadata": {},
   "outputs": [],
   "source": []
  },
  {
   "cell_type": "markdown",
   "id": "ff9c8aea-f127-45b1-a22b-f9d4ad0986d2",
   "metadata": {},
   "source": [
    "# **CNN Training**"
   ]
  },
  {
   "cell_type": "code",
   "execution_count": null,
   "id": "8618f22d-8442-47d6-a099-35b4779da29f",
   "metadata": {},
   "outputs": [],
   "source": [
    "class Net(nn.Module):\n",
    "    def __init__(self):\n",
    "        super(Net, self).__init__()\n",
    "        self.conv1 = nn.Conv2d(1, 10, kernel_size=5)\n",
    "        self.conv1_bn = nn.BatchNorm2d(10)\n",
    "        self.conv2 = nn.Conv2d(10, 20, kernel_size=5)\n",
    "        self.conv2_bn = nn.BatchNorm2d(20)\n",
    "        self.fc1 = nn.Linear(320, 20)\n",
    "        self.fc2 = nn.Linear(20, 10)\n",
    "\n",
    "    def forward(self, x):\n",
    "        x = self.conv1(x)\n",
    "        x = F.relu(self.conv1_bn(F.max_pool2d(x, 2)))\n",
    "        x = self.conv2(x)\n",
    "        x = F.relu(self.conv2_bn(F.max_pool2d(x, 2)))\n",
    "        x = x.view(-1, 320)\n",
    "        x = F.relu(self.fc1(x))\n",
    "        # x = F.dropout(x, training=self.training)\n",
    "        x = self.fc2(x)\n",
    "        return F.log_softmax(x)\n",
    "    \n",
    "model = Net().to(device)\n",
    "optimizer = torch.optim.SGD(model.parameters(), lr=0.012, momentum=0.5)\n",
    "criterion = nn.CrossEntropyLoss()\n",
    "\n",
    "print(model)"
   ]
  },
  {
   "cell_type": "code",
   "execution_count": null,
   "id": "a89364ec-fa3a-4940-bf7c-26227514fa5e",
   "metadata": {},
   "outputs": [],
   "source": []
  },
  {
   "cell_type": "code",
   "execution_count": null,
   "id": "53fbcdbe-bae2-42f1-b3eb-4fe0080be629",
   "metadata": {},
   "outputs": [],
   "source": []
  },
  {
   "cell_type": "code",
   "execution_count": null,
   "id": "5d2c7667-134b-4d5a-ab2c-65129dbbe10a",
   "metadata": {},
   "outputs": [],
   "source": []
  },
  {
   "cell_type": "code",
   "execution_count": null,
   "id": "9e1f47bb-5613-42e0-87c6-f5be26992fee",
   "metadata": {},
   "outputs": [],
   "source": []
  },
  {
   "cell_type": "code",
   "execution_count": null,
   "id": "ca2d080c-143e-497b-9d53-24366ffe0386",
   "metadata": {},
   "outputs": [],
   "source": []
  },
  {
   "cell_type": "code",
   "execution_count": null,
   "id": "ca489d3c-9bb1-46c3-8403-56fb8cfb1068",
   "metadata": {},
   "outputs": [],
   "source": []
  },
  {
   "cell_type": "code",
   "execution_count": null,
   "id": "1633d037-c7cc-4681-8ea2-9ac315dcd8f2",
   "metadata": {},
   "outputs": [],
   "source": []
  },
  {
   "cell_type": "code",
   "execution_count": null,
   "id": "bd3019f3-748b-4bac-bace-8a91af374339",
   "metadata": {},
   "outputs": [],
   "source": []
  },
  {
   "cell_type": "code",
   "execution_count": null,
   "id": "b6e092a7-b5c0-4baf-ad5d-7f0121462ce0",
   "metadata": {},
   "outputs": [],
   "source": []
  },
  {
   "cell_type": "code",
   "execution_count": null,
   "id": "19d422f0-148d-4f1e-bd08-710b6465264e",
   "metadata": {},
   "outputs": [],
   "source": []
  },
  {
   "cell_type": "code",
   "execution_count": null,
   "id": "a84f6efd-112c-4127-9ab0-c0d2fecce781",
   "metadata": {},
   "outputs": [],
   "source": []
  },
  {
   "cell_type": "code",
   "execution_count": null,
   "id": "1f4419cb-5c5b-4089-b818-5c10b932ddcd",
   "metadata": {},
   "outputs": [],
   "source": []
  },
  {
   "cell_type": "code",
   "execution_count": null,
   "id": "bbf717c7-9c11-444f-a735-811b9a01e4c9",
   "metadata": {},
   "outputs": [],
   "source": []
  },
  {
   "cell_type": "code",
   "execution_count": null,
   "id": "b61ebff5-190e-44ca-8ff2-9ce79732b48b",
   "metadata": {},
   "outputs": [],
   "source": []
  },
  {
   "cell_type": "code",
   "execution_count": null,
   "id": "fa5d36da-18f2-4799-81c9-c82d02f52680",
   "metadata": {},
   "outputs": [],
   "source": []
  },
  {
   "cell_type": "code",
   "execution_count": null,
   "id": "9c38e6f3-5b76-4f2b-8a4a-0c51f8eba45e",
   "metadata": {},
   "outputs": [],
   "source": []
  },
  {
   "cell_type": "code",
   "execution_count": null,
   "id": "540714e6-f046-4928-b3c2-d1dcf885ca2f",
   "metadata": {},
   "outputs": [],
   "source": []
  },
  {
   "cell_type": "code",
   "execution_count": null,
   "id": "8aec384d-8616-4bf9-bbc7-4194a42e2bad",
   "metadata": {},
   "outputs": [],
   "source": []
  },
  {
   "cell_type": "code",
   "execution_count": null,
   "id": "e29dac6e-fb06-4afe-9ea7-fce4ed56f7fe",
   "metadata": {},
   "outputs": [],
   "source": []
  },
  {
   "cell_type": "code",
   "execution_count": null,
   "id": "6f4f79d6-79da-4278-9476-883c0b922496",
   "metadata": {},
   "outputs": [],
   "source": []
  },
  {
   "cell_type": "code",
   "execution_count": null,
   "id": "f75f2236-6f65-4e50-a624-b092aeb0f8f2",
   "metadata": {},
   "outputs": [],
   "source": []
  }
 ],
 "metadata": {
  "kernelspec": {
   "display_name": "Python 3 (ipykernel)",
   "language": "python",
   "name": "python3"
  },
  "language_info": {
   "codemirror_mode": {
    "name": "ipython",
    "version": 3
   },
   "file_extension": ".py",
   "mimetype": "text/x-python",
   "name": "python",
   "nbconvert_exporter": "python",
   "pygments_lexer": "ipython3",
   "version": "3.11.5"
  }
 },
 "nbformat": 4,
 "nbformat_minor": 5
}
